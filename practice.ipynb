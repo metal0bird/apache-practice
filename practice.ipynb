{
 "cells": [
  {
   "cell_type": "code",
   "execution_count": 69,
   "metadata": {},
   "outputs": [
    {
     "name": "stdout",
     "output_type": "stream",
     "text": [
      "/Users/aman/college coding stuff/apache practice/spark/bin/pip: line 2: /Users/aman/coding stuff/apache learning/spark/bin/python3.11: No such file or directory\n",
      "/Users/aman/college coding stuff/apache practice/spark/bin/pip: line 2: exec: /Users/aman/coding stuff/apache learning/spark/bin/python3.11: cannot execute: No such file or directory\n",
      "/Users/aman/college coding stuff/apache practice/spark/bin/pip3: line 2: /Users/aman/coding stuff/apache learning/spark/bin/python3.11: No such file or directory\n",
      "/Users/aman/college coding stuff/apache practice/spark/bin/pip3: line 2: exec: /Users/aman/coding stuff/apache learning/spark/bin/python3.11: cannot execute: No such file or directory\n"
     ]
    }
   ],
   "source": [
    "!pip install pyspark\n",
    "!pip3 install numpy"
   ]
  },
  {
   "cell_type": "code",
   "execution_count": 71,
   "metadata": {},
   "outputs": [],
   "source": [
    "import pyspark\n"
   ]
  },
  {
   "cell_type": "code",
   "execution_count": 24,
   "metadata": {},
   "outputs": [],
   "source": [
    "from pyspark.sql import SparkSession\n",
    "from pyspark.sql.functions import *\n",
    "import pyspark.sql.functions as f\n"
   ]
  },
  {
   "cell_type": "code",
   "execution_count": 4,
   "metadata": {},
   "outputs": [
    {
     "name": "stderr",
     "output_type": "stream",
     "text": [
      "23/08/20 11:17:39 WARN Utils: Your hostname, MacBook-Pro.local resolves to a loopback address: 127.0.0.1; using 172.20.24.70 instead (on interface en0)\n",
      "23/08/20 11:17:39 WARN Utils: Set SPARK_LOCAL_IP if you need to bind to another address\n",
      "Setting default log level to \"WARN\".\n",
      "To adjust logging level use sc.setLogLevel(newLevel). For SparkR, use setLogLevel(newLevel).\n",
      "23/08/20 11:17:39 WARN NativeCodeLoader: Unable to load native-hadoop library for your platform... using builtin-java classes where applicable\n"
     ]
    }
   ],
   "source": [
    "spark = SparkSession.builder.appName('lemao').getOrCreate()"
   ]
  },
  {
   "cell_type": "code",
   "execution_count": 10,
   "metadata": {},
   "outputs": [
    {
     "data": {
      "text/html": [
       "\n",
       "            <div>\n",
       "                <p><b>SparkSession - in-memory</b></p>\n",
       "                \n",
       "        <div>\n",
       "            <p><b>SparkContext</b></p>\n",
       "\n",
       "            <p><a href=\"http://172.20.24.70:4040\">Spark UI</a></p>\n",
       "\n",
       "            <dl>\n",
       "              <dt>Version</dt>\n",
       "                <dd><code>v3.4.1</code></dd>\n",
       "              <dt>Master</dt>\n",
       "                <dd><code>local[*]</code></dd>\n",
       "              <dt>AppName</dt>\n",
       "                <dd><code>lemao</code></dd>\n",
       "            </dl>\n",
       "        </div>\n",
       "        \n",
       "            </div>\n",
       "        "
      ],
      "text/plain": [
       "<pyspark.sql.session.SparkSession at 0x1169fcd90>"
      ]
     },
     "execution_count": 10,
     "metadata": {},
     "output_type": "execute_result"
    },
    {
     "name": "stderr",
     "output_type": "stream",
     "text": [
      "23/08/19 20:59:31 WARN GarbageCollectionMetrics: To enable non-built-in garbage collector(s) List(G1 Concurrent GC), users should configure it(them) to spark.eventLog.gcMetrics.youngGenerationGarbageCollectors or spark.eventLog.gcMetrics.oldGenerationGarbageCollectors\n"
     ]
    }
   ],
   "source": [
    "spark"
   ]
  },
  {
   "cell_type": "code",
   "execution_count": 5,
   "metadata": {},
   "outputs": [],
   "source": [
    "df_python = spark.read.csv('projects.csv')"
   ]
  },
  {
   "cell_type": "code",
   "execution_count": 6,
   "metadata": {},
   "outputs": [
    {
     "name": "stdout",
     "output_type": "stream",
     "text": [
      "+----------+----+------+--------------------+-----+-----+--------+--------------------+-------------+------+--------------------+--------------------+\n",
      "|       _c0| _c1|   _c2|                 _c3|  _c4|  _c5|     _c6|                 _c7|          _c8|   _c9|                _c10|                _c11|\n",
      "+----------+----+------+--------------------+-----+-----+--------+--------------------+-------------+------+--------------------+--------------------+\n",
      "|      date|rank|  item|           repo_name|stars|forks|language|            repo_url|     username|issues|         last_commit|         description|\n",
      "|2018-12-18|   1|Python|      awesome-python|58777|11448|  Python|https://github.co...|        vinta|   439|2018-12-13T08:29:32Z|A curated list of...|\n",
      "|2018-12-18|   2|Python|system-design-primer|53575| 7570|  Python|https://github.co...|  donnemartin|    68|2018-12-18T11:20:56Z|Learn how to desi...|\n",
      "|2018-12-18|   3|Python|              models|46039|28053|  Python|https://github.co...|   tensorflow|  1324|2018-12-18T02:29:33Z|Models and exampl...|\n",
      "|2018-12-18|   4|Python|         public-apis|45373| 4707|  Python|https://github.co...|    toddmotto|     5|2018-12-18T11:24:53Z|A collective list...|\n",
      "|2018-12-18|   5|Python|          youtube-dl|44956| 7820|  Python|https://github.co...|          rg3|  2566|2018-12-18T11:18:21Z|Command-line prog...|\n",
      "|2018-12-18|   6|Python|               flask|40741|11734|  Python|https://github.co...|      pallets|    67|2018-12-14T18:56:27Z|The Python micro ...|\n",
      "|2018-12-18|   7|Python|             thefuck|39350| 1946|  Python|https://github.co...|         nvbn|   159|2018-12-13T14:47:45Z|Magnificent app w...|\n",
      "|2018-12-18|   8|Python|              httpie|38591| 2564|  Python|https://github.co...|jakubroztocil|   140|2018-12-10T10:52:28Z|As easy as httpie...|\n",
      "|2018-12-18|   9|Python|              django|38316|16556|  Python|https://github.co...|       django|   189|2018-12-18T12:42:34Z|The Web framework...|\n",
      "|2018-12-18|  10|Python|awesome-machine-l...|37009| 9142|  Python|https://github.co...| josephmisiti|     2|2018-12-18T07:28:04Z|A curated list of...|\n",
      "|2018-12-18|  11|Python|               keras|36511|13944|  Python|https://github.co...|   keras-team|  2024|2018-12-17T21:37:33Z|Deep Learning for...|\n",
      "|2018-12-18|  12|Python|            requests|36248| 6643|  Python|https://github.co...|     requests|   138|2018-12-13T21:34:12Z|Python HTTP Reque...|\n",
      "|2018-12-18|  13|Python|             ansible|34345|13789|  Python|https://github.co...|      ansible|  5539|2018-12-18T14:56:22Z|Ansible is a radi...|\n",
      "|2018-12-18|  14|Python|        scikit-learn|32359|15927|  Python|https://github.co...| scikit-learn|  1857|2018-12-18T14:57:18Z|scikit-learn: mac...|\n",
      "|2018-12-18|  15|Python|big-list-of-naugh...|30828| 1298|  Python|https://github.co...|    minimaxir|    62|2018-11-23T14:54:39Z|The Big List of N...|\n",
      "|2018-12-18|  16|Python|              scrapy|30530| 7360|  Python|https://github.co...|       scrapy|   701|2018-12-18T13:08:35Z|Scrapy, a fast hi...|\n",
      "|2018-12-18|  17|Python|         shadowsocks|27910|17201|  Python|https://github.co...|  shadowsocks|   382|2018-12-17T03:51:26Z|                null|\n",
      "|2018-12-18|  18|Python|              XX-Net|25821| 7224|  Python|https://github.co...|       XX-net|  7197|2018-11-23T09:53:59Z|    a web proxy tool|\n",
      "|2018-12-18|  19|Python|             certbot|23827| 2372|  Python|https://github.co...|      certbot|   898|2018-12-18T00:37:15Z|Certbot is EFF's ...|\n",
      "+----------+----+------+--------------------+-----+-----+--------+--------------------+-------------+------+--------------------+--------------------+\n",
      "only showing top 20 rows\n",
      "\n"
     ]
    }
   ],
   "source": [
    "df_python.show()"
   ]
  },
  {
   "cell_type": "code",
   "execution_count": 7,
   "metadata": {},
   "outputs": [],
   "source": [
    "df_python = spark.read.option('header','True').csv('projects.csv')"
   ]
  },
  {
   "cell_type": "code",
   "execution_count": 8,
   "metadata": {},
   "outputs": [
    {
     "name": "stdout",
     "output_type": "stream",
     "text": [
      "+----------+----+------+--------------------+-----+-----+--------+--------------------+-------------+------+--------------------+--------------------+\n",
      "|      date|rank|  item|           repo_name|stars|forks|language|            repo_url|     username|issues|         last_commit|         description|\n",
      "+----------+----+------+--------------------+-----+-----+--------+--------------------+-------------+------+--------------------+--------------------+\n",
      "|2018-12-18|   1|Python|      awesome-python|58777|11448|  Python|https://github.co...|        vinta|   439|2018-12-13T08:29:32Z|A curated list of...|\n",
      "|2018-12-18|   2|Python|system-design-primer|53575| 7570|  Python|https://github.co...|  donnemartin|    68|2018-12-18T11:20:56Z|Learn how to desi...|\n",
      "|2018-12-18|   3|Python|              models|46039|28053|  Python|https://github.co...|   tensorflow|  1324|2018-12-18T02:29:33Z|Models and exampl...|\n",
      "|2018-12-18|   4|Python|         public-apis|45373| 4707|  Python|https://github.co...|    toddmotto|     5|2018-12-18T11:24:53Z|A collective list...|\n",
      "|2018-12-18|   5|Python|          youtube-dl|44956| 7820|  Python|https://github.co...|          rg3|  2566|2018-12-18T11:18:21Z|Command-line prog...|\n",
      "|2018-12-18|   6|Python|               flask|40741|11734|  Python|https://github.co...|      pallets|    67|2018-12-14T18:56:27Z|The Python micro ...|\n",
      "|2018-12-18|   7|Python|             thefuck|39350| 1946|  Python|https://github.co...|         nvbn|   159|2018-12-13T14:47:45Z|Magnificent app w...|\n",
      "|2018-12-18|   8|Python|              httpie|38591| 2564|  Python|https://github.co...|jakubroztocil|   140|2018-12-10T10:52:28Z|As easy as httpie...|\n",
      "|2018-12-18|   9|Python|              django|38316|16556|  Python|https://github.co...|       django|   189|2018-12-18T12:42:34Z|The Web framework...|\n",
      "|2018-12-18|  10|Python|awesome-machine-l...|37009| 9142|  Python|https://github.co...| josephmisiti|     2|2018-12-18T07:28:04Z|A curated list of...|\n",
      "|2018-12-18|  11|Python|               keras|36511|13944|  Python|https://github.co...|   keras-team|  2024|2018-12-17T21:37:33Z|Deep Learning for...|\n",
      "|2018-12-18|  12|Python|            requests|36248| 6643|  Python|https://github.co...|     requests|   138|2018-12-13T21:34:12Z|Python HTTP Reque...|\n",
      "|2018-12-18|  13|Python|             ansible|34345|13789|  Python|https://github.co...|      ansible|  5539|2018-12-18T14:56:22Z|Ansible is a radi...|\n",
      "|2018-12-18|  14|Python|        scikit-learn|32359|15927|  Python|https://github.co...| scikit-learn|  1857|2018-12-18T14:57:18Z|scikit-learn: mac...|\n",
      "|2018-12-18|  15|Python|big-list-of-naugh...|30828| 1298|  Python|https://github.co...|    minimaxir|    62|2018-11-23T14:54:39Z|The Big List of N...|\n",
      "|2018-12-18|  16|Python|              scrapy|30530| 7360|  Python|https://github.co...|       scrapy|   701|2018-12-18T13:08:35Z|Scrapy, a fast hi...|\n",
      "|2018-12-18|  17|Python|         shadowsocks|27910|17201|  Python|https://github.co...|  shadowsocks|   382|2018-12-17T03:51:26Z|                null|\n",
      "|2018-12-18|  18|Python|              XX-Net|25821| 7224|  Python|https://github.co...|       XX-net|  7197|2018-11-23T09:53:59Z|    a web proxy tool|\n",
      "|2018-12-18|  19|Python|             certbot|23827| 2372|  Python|https://github.co...|      certbot|   898|2018-12-18T00:37:15Z|Certbot is EFF's ...|\n",
      "|2018-12-18|  20|Python|             cpython|21444| 8010|  Python|https://github.co...|       python|   971|2018-12-18T13:47:22Z|The Python progra...|\n",
      "+----------+----+------+--------------------+-----+-----+--------+--------------------+-------------+------+--------------------+--------------------+\n",
      "only showing top 20 rows\n",
      "\n"
     ]
    }
   ],
   "source": [
    "df_python.show()"
   ]
  },
  {
   "cell_type": "code",
   "execution_count": 9,
   "metadata": {},
   "outputs": [
    {
     "name": "stdout",
     "output_type": "stream",
     "text": [
      "root\n",
      " |-- date: string (nullable = true)\n",
      " |-- rank: string (nullable = true)\n",
      " |-- item: string (nullable = true)\n",
      " |-- repo_name: string (nullable = true)\n",
      " |-- stars: string (nullable = true)\n",
      " |-- forks: string (nullable = true)\n",
      " |-- language: string (nullable = true)\n",
      " |-- repo_url: string (nullable = true)\n",
      " |-- username: string (nullable = true)\n",
      " |-- issues: string (nullable = true)\n",
      " |-- last_commit: string (nullable = true)\n",
      " |-- description: string (nullable = true)\n",
      "\n"
     ]
    }
   ],
   "source": [
    "df_python.printSchema()   #kinda like df.info()"
   ]
  },
  {
   "cell_type": "code",
   "execution_count": 38,
   "metadata": {},
   "outputs": [],
   "source": [
    "df_python = spark.read.csv('projects.csv',header=True,inferSchema=True)"
   ]
  },
  {
   "cell_type": "code",
   "execution_count": 39,
   "metadata": {},
   "outputs": [
    {
     "name": "stdout",
     "output_type": "stream",
     "text": [
      "root\n",
      " |-- date: date (nullable = true)\n",
      " |-- rank: integer (nullable = true)\n",
      " |-- item: string (nullable = true)\n",
      " |-- repo_name: string (nullable = true)\n",
      " |-- stars: integer (nullable = true)\n",
      " |-- forks: integer (nullable = true)\n",
      " |-- language: string (nullable = true)\n",
      " |-- repo_url: string (nullable = true)\n",
      " |-- username: string (nullable = true)\n",
      " |-- issues: integer (nullable = true)\n",
      " |-- last_commit: timestamp (nullable = true)\n",
      " |-- description: string (nullable = true)\n",
      "\n"
     ]
    }
   ],
   "source": [
    "df_python.printSchema()"
   ]
  },
  {
   "cell_type": "code",
   "execution_count": 40,
   "metadata": {},
   "outputs": [
    {
     "name": "stdout",
     "output_type": "stream",
     "text": [
      "+-------------+------+\n",
      "|     username|issues|\n",
      "+-------------+------+\n",
      "|        vinta|   439|\n",
      "|  donnemartin|    68|\n",
      "|   tensorflow|  1324|\n",
      "|    toddmotto|     5|\n",
      "|          rg3|  2566|\n",
      "|      pallets|    67|\n",
      "|         nvbn|   159|\n",
      "|jakubroztocil|   140|\n",
      "|       django|   189|\n",
      "| josephmisiti|     2|\n",
      "|   keras-team|  2024|\n",
      "|     requests|   138|\n",
      "|      ansible|  5539|\n",
      "| scikit-learn|  1857|\n",
      "|    minimaxir|    62|\n",
      "|       scrapy|   701|\n",
      "|  shadowsocks|   382|\n",
      "|       XX-net|  7197|\n",
      "|      certbot|   898|\n",
      "|       python|   971|\n",
      "+-------------+------+\n",
      "only showing top 20 rows\n",
      "\n"
     ]
    }
   ],
   "source": [
    "type(df_python)\n",
    "df_python.select('username','issues').show()"
   ]
  },
  {
   "cell_type": "code",
   "execution_count": 41,
   "metadata": {},
   "outputs": [
    {
     "name": "stderr",
     "output_type": "stream",
     "text": [
      "[Stage 22:===========================================>              (6 + 2) / 8]\r"
     ]
    },
    {
     "name": "stdout",
     "output_type": "stream",
     "text": [
      "+-------+------------------+------+-------------------+------------------+-----------------+--------+--------------------+------------+-----------------+--------------------+\n",
      "|summary|              rank|  item|          repo_name|             stars|            forks|language|            repo_url|    username|           issues|         description|\n",
      "+-------+------------------+------+-------------------+------------------+-----------------+--------+--------------------+------------+-----------------+--------------------+\n",
      "|  count|            153480|153480|             153480|            153480|           153480|  153480|              153480|      153480|           153480|              152176|\n",
      "|   mean| 50.12470680218921|  null|            12306.0| 24972.43948397185|5539.676628876727|    null|                null|6.49453932E8|444.6295673703414|                null|\n",
      "| stddev|28.820350661048813|  null|                0.0|21557.984077216435|6501.271783737709|    null|                null|         0.0|961.4318990101139|                null|\n",
      "|    min|                 1|Python|100-Days-Of-ML-Code|               567|               12|  Python|https://github.co...|          0k|                0| :open_file_folde...|\n",
      "|    max|               100|Python|              zulip|            251976|            49573|  Python|https://github.co...|    zzw922cn|            16431|🪩 Create Disco D...|\n",
      "+-------+------------------+------+-------------------+------------------+-----------------+--------+--------------------+------------+-----------------+--------------------+\n",
      "\n"
     ]
    },
    {
     "name": "stderr",
     "output_type": "stream",
     "text": [
      "                                                                                \r"
     ]
    }
   ],
   "source": [
    "df_python.describe().show()"
   ]
  },
  {
   "cell_type": "code",
   "execution_count": 42,
   "metadata": {},
   "outputs": [],
   "source": [
    "df_python=df_python.withColumn('last commit date',substring(df_python['last_commit'],1,10)).withColumn('last commit time',substring(df_python['last_commit'],12,19))"
   ]
  },
  {
   "cell_type": "code",
   "execution_count": 43,
   "metadata": {},
   "outputs": [
    {
     "name": "stdout",
     "output_type": "stream",
     "text": [
      "+----------+----+------+--------------------+-----+-----+--------+--------------------+-------------+------+-------------------+--------------------+----------------+----------------+\n",
      "|      date|rank|  item|           repo_name|stars|forks|language|            repo_url|     username|issues|        last_commit|         description|last commit date|last commit time|\n",
      "+----------+----+------+--------------------+-----+-----+--------+--------------------+-------------+------+-------------------+--------------------+----------------+----------------+\n",
      "|2018-12-18|   1|Python|      awesome-python|58777|11448|  Python|https://github.co...|        vinta|   439|2018-12-13 13:59:32|A curated list of...|      2018-12-13|        13:59:32|\n",
      "|2018-12-18|   2|Python|system-design-primer|53575| 7570|  Python|https://github.co...|  donnemartin|    68|2018-12-18 16:50:56|Learn how to desi...|      2018-12-18|        16:50:56|\n",
      "|2018-12-18|   3|Python|              models|46039|28053|  Python|https://github.co...|   tensorflow|  1324|2018-12-18 07:59:33|Models and exampl...|      2018-12-18|        07:59:33|\n",
      "|2018-12-18|   4|Python|         public-apis|45373| 4707|  Python|https://github.co...|    toddmotto|     5|2018-12-18 16:54:53|A collective list...|      2018-12-18|        16:54:53|\n",
      "|2018-12-18|   5|Python|          youtube-dl|44956| 7820|  Python|https://github.co...|          rg3|  2566|2018-12-18 16:48:21|Command-line prog...|      2018-12-18|        16:48:21|\n",
      "|2018-12-18|   6|Python|               flask|40741|11734|  Python|https://github.co...|      pallets|    67|2018-12-15 00:26:27|The Python micro ...|      2018-12-15|        00:26:27|\n",
      "|2018-12-18|   7|Python|             thefuck|39350| 1946|  Python|https://github.co...|         nvbn|   159|2018-12-13 20:17:45|Magnificent app w...|      2018-12-13|        20:17:45|\n",
      "|2018-12-18|   8|Python|              httpie|38591| 2564|  Python|https://github.co...|jakubroztocil|   140|2018-12-10 16:22:28|As easy as httpie...|      2018-12-10|        16:22:28|\n",
      "|2018-12-18|   9|Python|              django|38316|16556|  Python|https://github.co...|       django|   189|2018-12-18 18:12:34|The Web framework...|      2018-12-18|        18:12:34|\n",
      "|2018-12-18|  10|Python|awesome-machine-l...|37009| 9142|  Python|https://github.co...| josephmisiti|     2|2018-12-18 12:58:04|A curated list of...|      2018-12-18|        12:58:04|\n",
      "|2018-12-18|  11|Python|               keras|36511|13944|  Python|https://github.co...|   keras-team|  2024|2018-12-18 03:07:33|Deep Learning for...|      2018-12-18|        03:07:33|\n",
      "|2018-12-18|  12|Python|            requests|36248| 6643|  Python|https://github.co...|     requests|   138|2018-12-14 03:04:12|Python HTTP Reque...|      2018-12-14|        03:04:12|\n",
      "|2018-12-18|  13|Python|             ansible|34345|13789|  Python|https://github.co...|      ansible|  5539|2018-12-18 20:26:22|Ansible is a radi...|      2018-12-18|        20:26:22|\n",
      "|2018-12-18|  14|Python|        scikit-learn|32359|15927|  Python|https://github.co...| scikit-learn|  1857|2018-12-18 20:27:18|scikit-learn: mac...|      2018-12-18|        20:27:18|\n",
      "|2018-12-18|  15|Python|big-list-of-naugh...|30828| 1298|  Python|https://github.co...|    minimaxir|    62|2018-11-23 20:24:39|The Big List of N...|      2018-11-23|        20:24:39|\n",
      "|2018-12-18|  16|Python|              scrapy|30530| 7360|  Python|https://github.co...|       scrapy|   701|2018-12-18 18:38:35|Scrapy, a fast hi...|      2018-12-18|        18:38:35|\n",
      "|2018-12-18|  17|Python|         shadowsocks|27910|17201|  Python|https://github.co...|  shadowsocks|   382|2018-12-17 09:21:26|                null|      2018-12-17|        09:21:26|\n",
      "|2018-12-18|  18|Python|              XX-Net|25821| 7224|  Python|https://github.co...|       XX-net|  7197|2018-11-23 15:23:59|    a web proxy tool|      2018-11-23|        15:23:59|\n",
      "|2018-12-18|  19|Python|             certbot|23827| 2372|  Python|https://github.co...|      certbot|   898|2018-12-18 06:07:15|Certbot is EFF's ...|      2018-12-18|        06:07:15|\n",
      "|2018-12-18|  20|Python|             cpython|21444| 8010|  Python|https://github.co...|       python|   971|2018-12-18 19:17:22|The Python progra...|      2018-12-18|        19:17:22|\n",
      "+----------+----+------+--------------------+-----+-----+--------+--------------------+-------------+------+-------------------+--------------------+----------------+----------------+\n",
      "only showing top 20 rows\n",
      "\n"
     ]
    }
   ],
   "source": [
    "df_python.show()"
   ]
  },
  {
   "cell_type": "code",
   "execution_count": 16,
   "metadata": {},
   "outputs": [
    {
     "name": "stdout",
     "output_type": "stream",
     "text": [
      "+----------+----+------+--------------------+-----+-----+--------+--------------------+-------------+------+--------------------+----------------+----------------+\n",
      "|      date|rank|  item|           repo_name|stars|forks|language|            repo_url|     username|issues|         description|last commit date|last commit time|\n",
      "+----------+----+------+--------------------+-----+-----+--------+--------------------+-------------+------+--------------------+----------------+----------------+\n",
      "|2018-12-18|   1|Python|      awesome-python|58777|11448|  Python|https://github.co...|        vinta|   439|A curated list of...|      2018-12-13|        13:59:32|\n",
      "|2018-12-18|   2|Python|system-design-primer|53575| 7570|  Python|https://github.co...|  donnemartin|    68|Learn how to desi...|      2018-12-18|        16:50:56|\n",
      "|2018-12-18|   3|Python|              models|46039|28053|  Python|https://github.co...|   tensorflow|  1324|Models and exampl...|      2018-12-18|        07:59:33|\n",
      "|2018-12-18|   4|Python|         public-apis|45373| 4707|  Python|https://github.co...|    toddmotto|     5|A collective list...|      2018-12-18|        16:54:53|\n",
      "|2018-12-18|   5|Python|          youtube-dl|44956| 7820|  Python|https://github.co...|          rg3|  2566|Command-line prog...|      2018-12-18|        16:48:21|\n",
      "|2018-12-18|   6|Python|               flask|40741|11734|  Python|https://github.co...|      pallets|    67|The Python micro ...|      2018-12-15|        00:26:27|\n",
      "|2018-12-18|   7|Python|             thefuck|39350| 1946|  Python|https://github.co...|         nvbn|   159|Magnificent app w...|      2018-12-13|        20:17:45|\n",
      "|2018-12-18|   8|Python|              httpie|38591| 2564|  Python|https://github.co...|jakubroztocil|   140|As easy as httpie...|      2018-12-10|        16:22:28|\n",
      "|2018-12-18|   9|Python|              django|38316|16556|  Python|https://github.co...|       django|   189|The Web framework...|      2018-12-18|        18:12:34|\n",
      "|2018-12-18|  10|Python|awesome-machine-l...|37009| 9142|  Python|https://github.co...| josephmisiti|     2|A curated list of...|      2018-12-18|        12:58:04|\n",
      "|2018-12-18|  11|Python|               keras|36511|13944|  Python|https://github.co...|   keras-team|  2024|Deep Learning for...|      2018-12-18|        03:07:33|\n",
      "|2018-12-18|  12|Python|            requests|36248| 6643|  Python|https://github.co...|     requests|   138|Python HTTP Reque...|      2018-12-14|        03:04:12|\n",
      "|2018-12-18|  13|Python|             ansible|34345|13789|  Python|https://github.co...|      ansible|  5539|Ansible is a radi...|      2018-12-18|        20:26:22|\n",
      "|2018-12-18|  14|Python|        scikit-learn|32359|15927|  Python|https://github.co...| scikit-learn|  1857|scikit-learn: mac...|      2018-12-18|        20:27:18|\n",
      "|2018-12-18|  15|Python|big-list-of-naugh...|30828| 1298|  Python|https://github.co...|    minimaxir|    62|The Big List of N...|      2018-11-23|        20:24:39|\n",
      "|2018-12-18|  16|Python|              scrapy|30530| 7360|  Python|https://github.co...|       scrapy|   701|Scrapy, a fast hi...|      2018-12-18|        18:38:35|\n",
      "|2018-12-18|  17|Python|         shadowsocks|27910|17201|  Python|https://github.co...|  shadowsocks|   382|                null|      2018-12-17|        09:21:26|\n",
      "|2018-12-18|  18|Python|              XX-Net|25821| 7224|  Python|https://github.co...|       XX-net|  7197|    a web proxy tool|      2018-11-23|        15:23:59|\n",
      "|2018-12-18|  19|Python|             certbot|23827| 2372|  Python|https://github.co...|      certbot|   898|Certbot is EFF's ...|      2018-12-18|        06:07:15|\n",
      "|2018-12-18|  20|Python|             cpython|21444| 8010|  Python|https://github.co...|       python|   971|The Python progra...|      2018-12-18|        19:17:22|\n",
      "+----------+----+------+--------------------+-----+-----+--------+--------------------+-------------+------+--------------------+----------------+----------------+\n",
      "only showing top 20 rows\n",
      "\n"
     ]
    }
   ],
   "source": [
    "df_python=df_python.drop('last_commit')\n",
    "df_python.show()"
   ]
  },
  {
   "cell_type": "code",
   "execution_count": 44,
   "metadata": {},
   "outputs": [
    {
     "name": "stdout",
     "output_type": "stream",
     "text": [
      "+----------+----+------+--------------------+-----+-----+--------+--------------------+-------------+------+-------------------+--------------------+----------------+----------------+\n",
      "|      date|rank| items|           repo_name|stars|forks|language|            repo_url|     username|issues|        last_commit|         description|last commit date|last commit time|\n",
      "+----------+----+------+--------------------+-----+-----+--------+--------------------+-------------+------+-------------------+--------------------+----------------+----------------+\n",
      "|2018-12-18|   1|Python|      awesome-python|58777|11448|  Python|https://github.co...|        vinta|   439|2018-12-13 13:59:32|A curated list of...|      2018-12-13|        13:59:32|\n",
      "|2018-12-18|   2|Python|system-design-primer|53575| 7570|  Python|https://github.co...|  donnemartin|    68|2018-12-18 16:50:56|Learn how to desi...|      2018-12-18|        16:50:56|\n",
      "|2018-12-18|   3|Python|              models|46039|28053|  Python|https://github.co...|   tensorflow|  1324|2018-12-18 07:59:33|Models and exampl...|      2018-12-18|        07:59:33|\n",
      "|2018-12-18|   4|Python|         public-apis|45373| 4707|  Python|https://github.co...|    toddmotto|     5|2018-12-18 16:54:53|A collective list...|      2018-12-18|        16:54:53|\n",
      "|2018-12-18|   5|Python|          youtube-dl|44956| 7820|  Python|https://github.co...|          rg3|  2566|2018-12-18 16:48:21|Command-line prog...|      2018-12-18|        16:48:21|\n",
      "|2018-12-18|   6|Python|               flask|40741|11734|  Python|https://github.co...|      pallets|    67|2018-12-15 00:26:27|The Python micro ...|      2018-12-15|        00:26:27|\n",
      "|2018-12-18|   7|Python|             thefuck|39350| 1946|  Python|https://github.co...|         nvbn|   159|2018-12-13 20:17:45|Magnificent app w...|      2018-12-13|        20:17:45|\n",
      "|2018-12-18|   8|Python|              httpie|38591| 2564|  Python|https://github.co...|jakubroztocil|   140|2018-12-10 16:22:28|As easy as httpie...|      2018-12-10|        16:22:28|\n",
      "|2018-12-18|   9|Python|              django|38316|16556|  Python|https://github.co...|       django|   189|2018-12-18 18:12:34|The Web framework...|      2018-12-18|        18:12:34|\n",
      "|2018-12-18|  10|Python|awesome-machine-l...|37009| 9142|  Python|https://github.co...| josephmisiti|     2|2018-12-18 12:58:04|A curated list of...|      2018-12-18|        12:58:04|\n",
      "|2018-12-18|  11|Python|               keras|36511|13944|  Python|https://github.co...|   keras-team|  2024|2018-12-18 03:07:33|Deep Learning for...|      2018-12-18|        03:07:33|\n",
      "|2018-12-18|  12|Python|            requests|36248| 6643|  Python|https://github.co...|     requests|   138|2018-12-14 03:04:12|Python HTTP Reque...|      2018-12-14|        03:04:12|\n",
      "|2018-12-18|  13|Python|             ansible|34345|13789|  Python|https://github.co...|      ansible|  5539|2018-12-18 20:26:22|Ansible is a radi...|      2018-12-18|        20:26:22|\n",
      "|2018-12-18|  14|Python|        scikit-learn|32359|15927|  Python|https://github.co...| scikit-learn|  1857|2018-12-18 20:27:18|scikit-learn: mac...|      2018-12-18|        20:27:18|\n",
      "|2018-12-18|  15|Python|big-list-of-naugh...|30828| 1298|  Python|https://github.co...|    minimaxir|    62|2018-11-23 20:24:39|The Big List of N...|      2018-11-23|        20:24:39|\n",
      "|2018-12-18|  16|Python|              scrapy|30530| 7360|  Python|https://github.co...|       scrapy|   701|2018-12-18 18:38:35|Scrapy, a fast hi...|      2018-12-18|        18:38:35|\n",
      "|2018-12-18|  17|Python|         shadowsocks|27910|17201|  Python|https://github.co...|  shadowsocks|   382|2018-12-17 09:21:26|                null|      2018-12-17|        09:21:26|\n",
      "|2018-12-18|  18|Python|              XX-Net|25821| 7224|  Python|https://github.co...|       XX-net|  7197|2018-11-23 15:23:59|    a web proxy tool|      2018-11-23|        15:23:59|\n",
      "|2018-12-18|  19|Python|             certbot|23827| 2372|  Python|https://github.co...|      certbot|   898|2018-12-18 06:07:15|Certbot is EFF's ...|      2018-12-18|        06:07:15|\n",
      "|2018-12-18|  20|Python|             cpython|21444| 8010|  Python|https://github.co...|       python|   971|2018-12-18 19:17:22|The Python progra...|      2018-12-18|        19:17:22|\n",
      "+----------+----+------+--------------------+-----+-----+--------+--------------------+-------------+------+-------------------+--------------------+----------------+----------------+\n",
      "only showing top 20 rows\n",
      "\n"
     ]
    }
   ],
   "source": [
    "df_python=df_python.withColumnRenamed('item','items')\n",
    "df_python.show()"
   ]
  },
  {
   "cell_type": "code",
   "execution_count": 64,
   "metadata": {},
   "outputs": [
    {
     "name": "stdout",
     "output_type": "stream",
     "text": [
      "+----------+----+------+--------------------+-----+-----+--------+--------------------+-------------+------+-------------------+--------------------+----------------+----------------+----------------+\n",
      "|      date|rank| items|           repo_name|stars|forks|language|            repo_url|     username|issues|        last_commit|         description|last commit date|last commit time|starts_with_null|\n",
      "+----------+----+------+--------------------+-----+-----+--------+--------------------+-------------+------+-------------------+--------------------+----------------+----------------+----------------+\n",
      "|2018-12-18|   1|Python|      awesome-python|58777|11448|  Python|https://github.co...|        vinta|   439|2018-12-13 13:59:32|A curated list of...|      2018-12-13|        13:59:32|           58777|\n",
      "|2018-12-18|   2|Python|system-design-primer|53575| 7570|  Python|https://github.co...|  donnemartin|    68|2018-12-18 16:50:56|Learn how to desi...|      2018-12-18|        16:50:56|           53575|\n",
      "|2018-12-18|   3|Python|              models|46039|28053|  Python|https://github.co...|   tensorflow|  1324|2018-12-18 07:59:33|Models and exampl...|      2018-12-18|        07:59:33|            null|\n",
      "|2018-12-18|   4|Python|         public-apis|45373| 4707|  Python|https://github.co...|    toddmotto|     5|2018-12-18 16:54:53|A collective list...|      2018-12-18|        16:54:53|           45373|\n",
      "|2018-12-18|   5|Python|          youtube-dl|44956| 7820|  Python|https://github.co...|          rg3|  2566|2018-12-18 16:48:21|Command-line prog...|      2018-12-18|        16:48:21|            null|\n",
      "|2018-12-18|   6|Python|               flask|40741|11734|  Python|https://github.co...|      pallets|    67|2018-12-15 00:26:27|The Python micro ...|      2018-12-15|        00:26:27|            null|\n",
      "|2018-12-18|   7|Python|             thefuck|39350| 1946|  Python|https://github.co...|         nvbn|   159|2018-12-13 20:17:45|Magnificent app w...|      2018-12-13|        20:17:45|           39350|\n",
      "|2018-12-18|   8|Python|              httpie|38591| 2564|  Python|https://github.co...|jakubroztocil|   140|2018-12-10 16:22:28|As easy as httpie...|      2018-12-10|        16:22:28|           38591|\n",
      "|2018-12-18|   9|Python|              django|38316|16556|  Python|https://github.co...|       django|   189|2018-12-18 18:12:34|The Web framework...|      2018-12-18|        18:12:34|            null|\n",
      "|2018-12-18|  10|Python|awesome-machine-l...|37009| 9142|  Python|https://github.co...| josephmisiti|     2|2018-12-18 12:58:04|A curated list of...|      2018-12-18|        12:58:04|           37009|\n",
      "|2018-12-18|  11|Python|               keras|36511|13944|  Python|https://github.co...|   keras-team|  2024|2018-12-18 03:07:33|Deep Learning for...|      2018-12-18|        03:07:33|           36511|\n",
      "|2018-12-18|  12|Python|            requests|36248| 6643|  Python|https://github.co...|     requests|   138|2018-12-14 03:04:12|Python HTTP Reque...|      2018-12-14|        03:04:12|           36248|\n",
      "|2018-12-18|  13|Python|             ansible|34345|13789|  Python|https://github.co...|      ansible|  5539|2018-12-18 20:26:22|Ansible is a radi...|      2018-12-18|        20:26:22|            null|\n",
      "|2018-12-18|  14|Python|        scikit-learn|32359|15927|  Python|https://github.co...| scikit-learn|  1857|2018-12-18 20:27:18|scikit-learn: mac...|      2018-12-18|        20:27:18|           32359|\n",
      "|2018-12-18|  15|Python|big-list-of-naugh...|30828| 1298|  Python|https://github.co...|    minimaxir|    62|2018-11-23 20:24:39|The Big List of N...|      2018-11-23|        20:24:39|            null|\n",
      "|2018-12-18|  16|Python|              scrapy|30530| 7360|  Python|https://github.co...|       scrapy|   701|2018-12-18 18:38:35|Scrapy, a fast hi...|      2018-12-18|        18:38:35|           30530|\n",
      "|2018-12-18|  17|Python|         shadowsocks|27910|17201|  Python|https://github.co...|  shadowsocks|   382|2018-12-17 09:21:26|                null|      2018-12-17|        09:21:26|            null|\n",
      "|2018-12-18|  18|Python|              XX-Net|25821| 7224|  Python|https://github.co...|       XX-net|  7197|2018-11-23 15:23:59|    a web proxy tool|      2018-11-23|        15:23:59|            null|\n",
      "|2018-12-18|  19|Python|             certbot|23827| 2372|  Python|https://github.co...|      certbot|   898|2018-12-18 06:07:15|Certbot is EFF's ...|      2018-12-18|        06:07:15|           23827|\n",
      "|2018-12-18|  20|Python|             cpython|21444| 8010|  Python|https://github.co...|       python|   971|2018-12-18 19:17:22|The Python progra...|      2018-12-18|        19:17:22|           21444|\n",
      "+----------+----+------+--------------------+-----+-----+--------+--------------------+-------------+------+-------------------+--------------------+----------------+----------------+----------------+\n",
      "only showing top 20 rows\n",
      "\n"
     ]
    }
   ],
   "source": [
    "\n",
    "df_python = df_python.withColumn('starts_with_null', f.when(f.rand() > 0.25, df_python['stars']).otherwise(f.lit(None)))        #imputing a column with null values\n",
    "df_python.show()"
   ]
  },
  {
   "cell_type": "code",
   "execution_count": 65,
   "metadata": {},
   "outputs": [
    {
     "data": {
      "text/plain": [
       "DataFrame[date: date, rank: int, items: string, repo_name: string, stars: int, forks: int, language: string, repo_url: string, username: string, issues: int, last_commit: timestamp, description: string, last commit date: string, last commit time: string, starts_with_null: int]"
      ]
     },
     "execution_count": 65,
     "metadata": {},
     "output_type": "execute_result"
    }
   ],
   "source": [
    "df_python.drop('Val')"
   ]
  },
  {
   "cell_type": "code",
   "execution_count": 57,
   "metadata": {},
   "outputs": [
    {
     "name": "stdout",
     "output_type": "stream",
     "text": [
      "+----------+----+------+--------------------+-----+-----+--------+--------------------+--------------+------+-------------------+--------------------+----------------+----------------+----------------+\n",
      "|      date|rank| items|           repo_name|stars|forks|language|            repo_url|      username|issues|        last_commit|         description|last commit date|last commit time|starts_with_null|\n",
      "+----------+----+------+--------------------+-----+-----+--------+--------------------+--------------+------+-------------------+--------------------+----------------+----------------+----------------+\n",
      "|2018-12-18|   1|Python|      awesome-python|58777|11448|  Python|https://github.co...|         vinta|   439|2018-12-13 13:59:32|A curated list of...|      2018-12-13|        13:59:32|           58777|\n",
      "|2018-12-18|   2|Python|system-design-primer|53575| 7570|  Python|https://github.co...|   donnemartin|    68|2018-12-18 16:50:56|Learn how to desi...|      2018-12-18|        16:50:56|           53575|\n",
      "|2018-12-18|   3|Python|              models|46039|28053|  Python|https://github.co...|    tensorflow|  1324|2018-12-18 07:59:33|Models and exampl...|      2018-12-18|        07:59:33|           46039|\n",
      "|2018-12-18|   4|Python|         public-apis|45373| 4707|  Python|https://github.co...|     toddmotto|     5|2018-12-18 16:54:53|A collective list...|      2018-12-18|        16:54:53|           45373|\n",
      "|2018-12-18|   5|Python|          youtube-dl|44956| 7820|  Python|https://github.co...|           rg3|  2566|2018-12-18 16:48:21|Command-line prog...|      2018-12-18|        16:48:21|           44956|\n",
      "|2018-12-18|   6|Python|               flask|40741|11734|  Python|https://github.co...|       pallets|    67|2018-12-15 00:26:27|The Python micro ...|      2018-12-15|        00:26:27|           40741|\n",
      "|2018-12-18|   7|Python|             thefuck|39350| 1946|  Python|https://github.co...|          nvbn|   159|2018-12-13 20:17:45|Magnificent app w...|      2018-12-13|        20:17:45|           39350|\n",
      "|2018-12-18|   8|Python|              httpie|38591| 2564|  Python|https://github.co...| jakubroztocil|   140|2018-12-10 16:22:28|As easy as httpie...|      2018-12-10|        16:22:28|           38591|\n",
      "|2018-12-18|   9|Python|              django|38316|16556|  Python|https://github.co...|        django|   189|2018-12-18 18:12:34|The Web framework...|      2018-12-18|        18:12:34|           38316|\n",
      "|2018-12-18|  10|Python|awesome-machine-l...|37009| 9142|  Python|https://github.co...|  josephmisiti|     2|2018-12-18 12:58:04|A curated list of...|      2018-12-18|        12:58:04|           37009|\n",
      "|2018-12-18|  11|Python|               keras|36511|13944|  Python|https://github.co...|    keras-team|  2024|2018-12-18 03:07:33|Deep Learning for...|      2018-12-18|        03:07:33|           36511|\n",
      "|2018-12-18|  12|Python|            requests|36248| 6643|  Python|https://github.co...|      requests|   138|2018-12-14 03:04:12|Python HTTP Reque...|      2018-12-14|        03:04:12|           36248|\n",
      "|2018-12-18|  13|Python|             ansible|34345|13789|  Python|https://github.co...|       ansible|  5539|2018-12-18 20:26:22|Ansible is a radi...|      2018-12-18|        20:26:22|           34345|\n",
      "|2018-12-18|  20|Python|             cpython|21444| 8010|  Python|https://github.co...|        python|   971|2018-12-18 19:17:22|The Python progra...|      2018-12-18|        19:17:22|           21444|\n",
      "|2018-12-18|  22|Python|   CppCoreGuidelines|20710| 2646|  Python|https://github.co...|        isocpp|    97|2018-12-17 01:17:48|The C++ Core Guid...|      2018-12-17|        01:17:48|           20710|\n",
      "|2018-12-18|  24|Python|                tldr|19738| 1474|  Python|https://github.co...|    tldr-pages|    87|2018-12-18 19:36:04|:books: Simplifie...|      2018-12-18|        19:36:04|           19738|\n",
      "|2018-12-18|  25|Python|              Python|19428| 5369|  Python|https://github.co...| TheAlgorithms|   155|2018-12-17 21:11:12|All Algorithms im...|      2018-12-17|        21:11:12|           19428|\n",
      "|2018-12-18|  26|Python|      home-assistant|19390| 5694|  Python|https://github.co...|home-assistant|   897|2018-12-18 20:24:23|:house_with_garde...|      2018-12-18|        20:24:23|           19390|\n",
      "|2018-12-18|  28|Python|              sentry|19173| 2214|  Python|https://github.co...|     getsentry|   763|2018-12-18 19:02:38|Sentry is cross-p...|      2018-12-18|        19:02:38|           19173|\n",
      "|2018-12-18|  30|Python|     python-patterns|18289| 4080|  Python|https://github.co...|          faif|     7|2018-12-14 23:53:40|A collection of d...|      2018-12-14|        23:53:40|           18289|\n",
      "+----------+----+------+--------------------+-----+-----+--------+--------------------+--------------+------+-------------------+--------------------+----------------+----------------+----------------+\n",
      "only showing top 20 rows\n",
      "\n"
     ]
    }
   ],
   "source": [
    "df_python.na.drop(how=\"any\").show()     #will drop any row with null values more than threshold\n",
    "\n",
    "#df_python.na.drop(how=\"any\",thresh=2,subset=['stars_with_null']).show()  "
   ]
  },
  {
   "cell_type": "code",
   "execution_count": 63,
   "metadata": {},
   "outputs": [
    {
     "name": "stdout",
     "output_type": "stream",
     "text": [
      "+----------+----+------+--------------------+-----+-----+--------+--------------------+-------------+------+-------------------+--------------------+----------------+----------------+----------------+\n",
      "|      date|rank| items|           repo_name|stars|forks|language|            repo_url|     username|issues|        last_commit|         description|last commit date|last commit time|starts_with_null|\n",
      "+----------+----+------+--------------------+-----+-----+--------+--------------------+-------------+------+-------------------+--------------------+----------------+----------------+----------------+\n",
      "|2018-12-18|   1|Python|      awesome-python|58777|11448|  Python|https://github.co...|        vinta|   439|2018-12-13 13:59:32|A curated list of...|      2018-12-13|        13:59:32|               0|\n",
      "|2018-12-18|   2|Python|system-design-primer|53575| 7570|  Python|https://github.co...|  donnemartin|    68|2018-12-18 16:50:56|Learn how to desi...|      2018-12-18|        16:50:56|           53575|\n",
      "|2018-12-18|   3|Python|              models|46039|28053|  Python|https://github.co...|   tensorflow|  1324|2018-12-18 07:59:33|Models and exampl...|      2018-12-18|        07:59:33|           46039|\n",
      "|2018-12-18|   4|Python|         public-apis|45373| 4707|  Python|https://github.co...|    toddmotto|     5|2018-12-18 16:54:53|A collective list...|      2018-12-18|        16:54:53|               0|\n",
      "|2018-12-18|   5|Python|          youtube-dl|44956| 7820|  Python|https://github.co...|          rg3|  2566|2018-12-18 16:48:21|Command-line prog...|      2018-12-18|        16:48:21|           44956|\n",
      "|2018-12-18|   6|Python|               flask|40741|11734|  Python|https://github.co...|      pallets|    67|2018-12-15 00:26:27|The Python micro ...|      2018-12-15|        00:26:27|           40741|\n",
      "|2018-12-18|   7|Python|             thefuck|39350| 1946|  Python|https://github.co...|         nvbn|   159|2018-12-13 20:17:45|Magnificent app w...|      2018-12-13|        20:17:45|           39350|\n",
      "|2018-12-18|   8|Python|              httpie|38591| 2564|  Python|https://github.co...|jakubroztocil|   140|2018-12-10 16:22:28|As easy as httpie...|      2018-12-10|        16:22:28|               0|\n",
      "|2018-12-18|   9|Python|              django|38316|16556|  Python|https://github.co...|       django|   189|2018-12-18 18:12:34|The Web framework...|      2018-12-18|        18:12:34|           38316|\n",
      "|2018-12-18|  10|Python|awesome-machine-l...|37009| 9142|  Python|https://github.co...| josephmisiti|     2|2018-12-18 12:58:04|A curated list of...|      2018-12-18|        12:58:04|           37009|\n",
      "|2018-12-18|  11|Python|               keras|36511|13944|  Python|https://github.co...|   keras-team|  2024|2018-12-18 03:07:33|Deep Learning for...|      2018-12-18|        03:07:33|               0|\n",
      "|2018-12-18|  12|Python|            requests|36248| 6643|  Python|https://github.co...|     requests|   138|2018-12-14 03:04:12|Python HTTP Reque...|      2018-12-14|        03:04:12|               0|\n",
      "|2018-12-18|  13|Python|             ansible|34345|13789|  Python|https://github.co...|      ansible|  5539|2018-12-18 20:26:22|Ansible is a radi...|      2018-12-18|        20:26:22|           34345|\n",
      "|2018-12-18|  14|Python|        scikit-learn|32359|15927|  Python|https://github.co...| scikit-learn|  1857|2018-12-18 20:27:18|scikit-learn: mac...|      2018-12-18|        20:27:18|           32359|\n",
      "|2018-12-18|  15|Python|big-list-of-naugh...|30828| 1298|  Python|https://github.co...|    minimaxir|    62|2018-11-23 20:24:39|The Big List of N...|      2018-11-23|        20:24:39|           30828|\n",
      "|2018-12-18|  16|Python|              scrapy|30530| 7360|  Python|https://github.co...|       scrapy|   701|2018-12-18 18:38:35|Scrapy, a fast hi...|      2018-12-18|        18:38:35|           30530|\n",
      "|2018-12-18|  17|Python|         shadowsocks|27910|17201|  Python|https://github.co...|  shadowsocks|   382|2018-12-17 09:21:26|                null|      2018-12-17|        09:21:26|               0|\n",
      "|2018-12-18|  18|Python|              XX-Net|25821| 7224|  Python|https://github.co...|       XX-net|  7197|2018-11-23 15:23:59|    a web proxy tool|      2018-11-23|        15:23:59|           25821|\n",
      "|2018-12-18|  19|Python|             certbot|23827| 2372|  Python|https://github.co...|      certbot|   898|2018-12-18 06:07:15|Certbot is EFF's ...|      2018-12-18|        06:07:15|           23827|\n",
      "|2018-12-18|  20|Python|             cpython|21444| 8010|  Python|https://github.co...|       python|   971|2018-12-18 19:17:22|The Python progra...|      2018-12-18|        19:17:22|           21444|\n",
      "+----------+----+------+--------------------+-----+-----+--------+--------------------+-------------+------+-------------------+--------------------+----------------+----------------+----------------+\n",
      "only showing top 20 rows\n",
      "\n"
     ]
    }
   ],
   "source": [
    "df_python.na.fill(0,'starts_with_null').show()      #replacing the null values with 0"
   ]
  },
  {
   "cell_type": "code",
   "execution_count": 74,
   "metadata": {},
   "outputs": [
    {
     "ename": "ModuleNotFoundError",
     "evalue": "No module named 'numpy'",
     "output_type": "error",
     "traceback": [
      "\u001b[0;31m---------------------------------------------------------------------------\u001b[0m",
      "\u001b[0;31mModuleNotFoundError\u001b[0m                       Traceback (most recent call last)",
      "Cell \u001b[0;32mIn[74], line 2\u001b[0m\n\u001b[1;32m      1\u001b[0m \u001b[39m#impute columns\u001b[39;00m\n\u001b[0;32m----> 2\u001b[0m \u001b[39mfrom\u001b[39;00m \u001b[39mpyspark\u001b[39;00m\u001b[39m.\u001b[39;00m\u001b[39mml\u001b[39;00m\u001b[39m.\u001b[39;00m\u001b[39mfeature\u001b[39;00m \u001b[39mimport\u001b[39;00m Imputer\n\u001b[1;32m      4\u001b[0m imputer \u001b[39m=\u001b[39m Imputer(inputCols\u001b[39m=\u001b[39m[\u001b[39m'\u001b[39m\u001b[39mstarts_with_null\u001b[39m\u001b[39m'\u001b[39m],outputCols\u001b[39m=\u001b[39m[\u001b[39m\"\u001b[39m\u001b[39m{}\u001b[39;00m\u001b[39m_imputed\u001b[39m\u001b[39m\"\u001b[39m\u001b[39m.\u001b[39mformat(c) \u001b[39mfor\u001b[39;00m c \u001b[39min\u001b[39;00m [\u001b[39m'\u001b[39m\u001b[39mstarts_with_null\u001b[39m\u001b[39m'\u001b[39m]])\u001b[39m.\u001b[39msetStrategy(\u001b[39m\"\u001b[39m\u001b[39mmean\u001b[39m\u001b[39m\"\u001b[39m)\n",
      "File \u001b[0;32m~/college coding stuff/apache practice/spark/lib/python3.11/site-packages/pyspark/ml/__init__.py:22\u001b[0m\n\u001b[1;32m      1\u001b[0m \u001b[39m#\u001b[39;00m\n\u001b[1;32m      2\u001b[0m \u001b[39m# Licensed to the Apache Software Foundation (ASF) under one or more\u001b[39;00m\n\u001b[1;32m      3\u001b[0m \u001b[39m# contributor license agreements.  See the NOTICE file distributed with\u001b[39;00m\n\u001b[0;32m   (...)\u001b[0m\n\u001b[1;32m     15\u001b[0m \u001b[39m# limitations under the License.\u001b[39;00m\n\u001b[1;32m     16\u001b[0m \u001b[39m#\u001b[39;00m\n\u001b[1;32m     18\u001b[0m \u001b[39m\"\"\"\u001b[39;00m\n\u001b[1;32m     19\u001b[0m \u001b[39mDataFrame-based machine learning APIs to let users quickly assemble and configure practical\u001b[39;00m\n\u001b[1;32m     20\u001b[0m \u001b[39mmachine learning pipelines.\u001b[39;00m\n\u001b[1;32m     21\u001b[0m \u001b[39m\"\"\"\u001b[39;00m\n\u001b[0;32m---> 22\u001b[0m \u001b[39mfrom\u001b[39;00m \u001b[39mpyspark\u001b[39;00m\u001b[39m.\u001b[39;00m\u001b[39mml\u001b[39;00m\u001b[39m.\u001b[39;00m\u001b[39mbase\u001b[39;00m \u001b[39mimport\u001b[39;00m (\n\u001b[1;32m     23\u001b[0m     Estimator,\n\u001b[1;32m     24\u001b[0m     Model,\n\u001b[1;32m     25\u001b[0m     Predictor,\n\u001b[1;32m     26\u001b[0m     PredictionModel,\n\u001b[1;32m     27\u001b[0m     Transformer,\n\u001b[1;32m     28\u001b[0m     UnaryTransformer,\n\u001b[1;32m     29\u001b[0m )\n\u001b[1;32m     30\u001b[0m \u001b[39mfrom\u001b[39;00m \u001b[39mpyspark\u001b[39;00m\u001b[39m.\u001b[39;00m\u001b[39mml\u001b[39;00m\u001b[39m.\u001b[39;00m\u001b[39mpipeline\u001b[39;00m \u001b[39mimport\u001b[39;00m Pipeline, PipelineModel\n\u001b[1;32m     31\u001b[0m \u001b[39mfrom\u001b[39;00m \u001b[39mpyspark\u001b[39;00m\u001b[39m.\u001b[39;00m\u001b[39mml\u001b[39;00m \u001b[39mimport\u001b[39;00m (\n\u001b[1;32m     32\u001b[0m     classification,\n\u001b[1;32m     33\u001b[0m     clustering,\n\u001b[0;32m   (...)\u001b[0m\n\u001b[1;32m     44\u001b[0m     param,\n\u001b[1;32m     45\u001b[0m )\n",
      "File \u001b[0;32m~/college coding stuff/apache practice/spark/lib/python3.11/site-packages/pyspark/ml/base.py:40\u001b[0m\n\u001b[1;32m     23\u001b[0m \u001b[39mfrom\u001b[39;00m \u001b[39mtyping\u001b[39;00m \u001b[39mimport\u001b[39;00m (\n\u001b[1;32m     24\u001b[0m     Any,\n\u001b[1;32m     25\u001b[0m     Callable,\n\u001b[0;32m   (...)\u001b[0m\n\u001b[1;32m     36\u001b[0m     TYPE_CHECKING,\n\u001b[1;32m     37\u001b[0m )\n\u001b[1;32m     39\u001b[0m \u001b[39mfrom\u001b[39;00m \u001b[39mpyspark\u001b[39;00m \u001b[39mimport\u001b[39;00m since\n\u001b[0;32m---> 40\u001b[0m \u001b[39mfrom\u001b[39;00m \u001b[39mpyspark\u001b[39;00m\u001b[39m.\u001b[39;00m\u001b[39mml\u001b[39;00m\u001b[39m.\u001b[39;00m\u001b[39mparam\u001b[39;00m \u001b[39mimport\u001b[39;00m P\n\u001b[1;32m     41\u001b[0m \u001b[39mfrom\u001b[39;00m \u001b[39mpyspark\u001b[39;00m\u001b[39m.\u001b[39;00m\u001b[39mml\u001b[39;00m\u001b[39m.\u001b[39;00m\u001b[39mcommon\u001b[39;00m \u001b[39mimport\u001b[39;00m inherit_doc\n\u001b[1;32m     42\u001b[0m \u001b[39mfrom\u001b[39;00m \u001b[39mpyspark\u001b[39;00m\u001b[39m.\u001b[39;00m\u001b[39mml\u001b[39;00m\u001b[39m.\u001b[39;00m\u001b[39mparam\u001b[39;00m\u001b[39m.\u001b[39;00m\u001b[39mshared\u001b[39;00m \u001b[39mimport\u001b[39;00m (\n\u001b[1;32m     43\u001b[0m     HasInputCol,\n\u001b[1;32m     44\u001b[0m     HasOutputCol,\n\u001b[0;32m   (...)\u001b[0m\n\u001b[1;32m     48\u001b[0m     Params,\n\u001b[1;32m     49\u001b[0m )\n",
      "File \u001b[0;32m~/college coding stuff/apache practice/spark/lib/python3.11/site-packages/pyspark/ml/param/__init__.py:32\u001b[0m\n\u001b[1;32m     19\u001b[0m \u001b[39mimport\u001b[39;00m \u001b[39mcopy\u001b[39;00m\n\u001b[1;32m     20\u001b[0m \u001b[39mfrom\u001b[39;00m \u001b[39mtyping\u001b[39;00m \u001b[39mimport\u001b[39;00m (\n\u001b[1;32m     21\u001b[0m     Any,\n\u001b[1;32m     22\u001b[0m     Callable,\n\u001b[0;32m   (...)\u001b[0m\n\u001b[1;32m     29\u001b[0m     TYPE_CHECKING,\n\u001b[1;32m     30\u001b[0m )\n\u001b[0;32m---> 32\u001b[0m \u001b[39mimport\u001b[39;00m \u001b[39mnumpy\u001b[39;00m \u001b[39mas\u001b[39;00m \u001b[39mnp\u001b[39;00m\n\u001b[1;32m     33\u001b[0m \u001b[39mfrom\u001b[39;00m \u001b[39mpy4j\u001b[39;00m\u001b[39m.\u001b[39;00m\u001b[39mjava_gateway\u001b[39;00m \u001b[39mimport\u001b[39;00m JavaObject\n\u001b[1;32m     35\u001b[0m \u001b[39mfrom\u001b[39;00m \u001b[39mpyspark\u001b[39;00m\u001b[39m.\u001b[39;00m\u001b[39mml\u001b[39;00m\u001b[39m.\u001b[39;00m\u001b[39mlinalg\u001b[39;00m \u001b[39mimport\u001b[39;00m DenseVector, Vector, Matrix\n",
      "\u001b[0;31mModuleNotFoundError\u001b[0m: No module named 'numpy'"
     ]
    }
   ],
   "source": [
    "#impute columns\n",
    "from pyspark.ml.feature import Imputer\n",
    "\n",
    "imputer = Imputer(inputCols=['starts_with_null'],outputCols=[\"{}_imputed\".format(c) for c in ['starts_with_null']]).setStrategy(\"mean\")"
   ]
  },
  {
   "cell_type": "code",
   "execution_count": null,
   "metadata": {},
   "outputs": [],
   "source": []
  }
 ],
 "metadata": {
  "kernelspec": {
   "display_name": "spark",
   "language": "python",
   "name": "python3"
  },
  "language_info": {
   "codemirror_mode": {
    "name": "ipython",
    "version": 3
   },
   "file_extension": ".py",
   "mimetype": "text/x-python",
   "name": "python",
   "nbconvert_exporter": "python",
   "pygments_lexer": "ipython3",
   "version": "3.11.3"
  },
  "orig_nbformat": 4
 },
 "nbformat": 4,
 "nbformat_minor": 2
}
